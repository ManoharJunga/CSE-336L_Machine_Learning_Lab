{
 "cells": [
  {
   "cell_type": "code",
   "execution_count": null,
   "metadata": {},
   "outputs": [],
   "source": [
    "#Implement K-NN Classifier for classification of any dataset of your choice.\n",
    "#    a. Load an existing data set\n",
    "#    b. Split the data set to train and test sets\n",
    "#    c. Test your model using test set. Find accuracy and confusion Matrix.\n",
    "#    d. Examine the effect of the value of K on accuracy/performance. Plot the curve “k vs\n",
    "#    accuracy” and find out the value of k for maximum accuracy for the test samples."
   ]
  },
  {
   "cell_type": "code",
   "execution_count": 26,
   "metadata": {},
   "outputs": [],
   "source": [
    "import pandas as pd\n",
    "from sklearn.model_selection import train_test_split"
   ]
  },
  {
   "cell_type": "code",
   "execution_count": 34,
   "metadata": {},
   "outputs": [
    {
     "name": "stdout",
     "output_type": "stream",
     "text": [
      "Shape of X: (150, 5)\n",
      "Shape of y: (150,)\n"
     ]
    }
   ],
   "source": [
    "df = pd.read_csv(\"iris.csv\")\n",
    "X = df.drop(columns=['Species'])\n",
    "y = df['Species']\n",
    "print(\"Shape of X:\", X.shape)\n",
    "print(\"Shape of y:\", y.shape)"
   ]
  },
  {
   "cell_type": "code",
   "execution_count": 39,
   "metadata": {},
   "outputs": [
    {
     "name": "stdout",
     "output_type": "stream",
     "text": [
      "   Id  SepalLengthCm  SepalWidthCm  PetalLengthCm  PetalWidthCm\n",
      "0   1            5.1           3.5            1.4           0.2\n",
      "1   2            4.9           3.0            1.4           0.2\n",
      "2   3            4.7           3.2            1.3           0.2\n",
      "3   4            4.6           3.1            1.5           0.2\n",
      "4   5            5.0           3.6            1.4           0.2\n"
     ]
    }
   ],
   "source": [
    "print(X.head())"
   ]
  },
  {
   "cell_type": "code",
   "execution_count": 40,
   "metadata": {},
   "outputs": [
    {
     "name": "stdout",
     "output_type": "stream",
     "text": [
      "\n",
      "First few rows of y:\n",
      "0    Iris-setosa\n",
      "1    Iris-setosa\n",
      "2    Iris-setosa\n",
      "3    Iris-setosa\n",
      "4    Iris-setosa\n",
      "Name: Species, dtype: object\n"
     ]
    }
   ],
   "source": [
    "print(\"\\nFirst few rows of y:\")\n",
    "print(y.head())"
   ]
  },
  {
   "cell_type": "code",
   "execution_count": 42,
   "metadata": {},
   "outputs": [
    {
     "name": "stdout",
     "output_type": "stream",
     "text": [
      "Shape of X_train: (120, 5)\n",
      "Shape of X_test: (30, 5)\n",
      "Shape of y_train: (120,)\n",
      "Shape of y_test: (30,)\n"
     ]
    }
   ],
   "source": [
    "X_train, X_test, y_train, y_test = train_test_split(X, y, test_size=0.2, random_state=42)\n",
    "\n",
    "# Print the shapes to verify\n",
    "print(\"Shape of X_train:\", X_train.shape)\n",
    "print(\"Shape of X_test:\", X_test.shape)\n",
    "print(\"Shape of y_train:\", y_train.shape)\n",
    "print(\"Shape of y_test:\", y_test.shape)"
   ]
  },
  {
   "cell_type": "code",
   "execution_count": 43,
   "metadata": {},
   "outputs": [
    {
     "name": "stdout",
     "output_type": "stream",
     "text": [
      "\n",
      "First few rows of X_train:\n",
      "    Id  SepalLengthCm  SepalWidthCm  PetalLengthCm  PetalWidthCm\n",
      "22  23            4.6           3.6            1.0           0.2\n",
      "15  16            5.7           4.4            1.5           0.4\n",
      "65  66            6.7           3.1            4.4           1.4\n",
      "11  12            4.8           3.4            1.6           0.2\n",
      "42  43            4.4           3.2            1.3           0.2\n",
      "\n",
      "First few rows of X_test:\n",
      "      Id  SepalLengthCm  SepalWidthCm  PetalLengthCm  PetalWidthCm\n",
      "73    74            6.1           2.8            4.7           1.2\n",
      "18    19            5.7           3.8            1.7           0.3\n",
      "118  119            7.7           2.6            6.9           2.3\n",
      "78    79            6.0           2.9            4.5           1.5\n",
      "76    77            6.8           2.8            4.8           1.4\n",
      "\n",
      "First few rows of y_train:\n",
      "22        Iris-setosa\n",
      "15        Iris-setosa\n",
      "65    Iris-versicolor\n",
      "11        Iris-setosa\n",
      "42        Iris-setosa\n",
      "Name: Species, dtype: object\n",
      "\n",
      "First few rows of y_test:\n",
      "73     Iris-versicolor\n",
      "18         Iris-setosa\n",
      "118     Iris-virginica\n",
      "78     Iris-versicolor\n",
      "76     Iris-versicolor\n",
      "Name: Species, dtype: object\n"
     ]
    }
   ],
   "source": [
    "print(\"\\nFirst few rows of X_train:\")\n",
    "print(X_train.head())\n",
    "\n",
    "print(\"\\nFirst few rows of X_test:\")\n",
    "print(X_test.head())\n",
    "\n",
    "print(\"\\nFirst few rows of y_train:\")\n",
    "print(y_train.head())\n",
    "\n",
    "print(\"\\nFirst few rows of y_test:\")\n",
    "print(y_test.head())"
   ]
  },
  {
   "cell_type": "code",
   "execution_count": 59,
   "metadata": {},
   "outputs": [
    {
     "name": "stdout",
     "output_type": "stream",
     "text": [
      "\n",
      "Accuracy for k=1: 1.0000\n",
      "Confusion Matrix for k=1:\n",
      "[[10  0  0]\n",
      " [ 0  9  0]\n",
      " [ 0  0 11]]\n",
      "\n",
      "Accuracy for k=3: 1.0000\n",
      "Confusion Matrix for k=3:\n",
      "[[10  0  0]\n",
      " [ 0  9  0]\n",
      " [ 0  0 11]]\n",
      "\n",
      "Accuracy for k=52: 1.0000\n",
      "Confusion Matrix for k=52:\n",
      "[[10  0  0]\n",
      " [ 0  9  0]\n",
      " [ 0  0 11]]\n",
      "\n",
      "Accuracy for k=71: 1.0000\n",
      "Confusion Matrix for k=71:\n",
      "[[10  0  0]\n",
      " [ 0  9  0]\n",
      " [ 0  0 11]]\n",
      "\n",
      "Accuracy for k=100: 0.3000\n",
      "Confusion Matrix for k=100:\n",
      "[[ 0 10  0]\n",
      " [ 0  9  0]\n",
      " [ 0 11  0]]\n"
     ]
    }
   ],
   "source": [
    "import numpy as np\n",
    "from sklearn.metrics import accuracy_score\n",
    "from sklearn.metrics import confusion_matrix\n",
    "\n",
    "def euclidean_distance(x1, x2):\n",
    "    return np.sqrt(np.sum((x1 - x2)**2))\n",
    "\n",
    "def predict(X_train, y_train, X_test, k):\n",
    "    y_pred = []\n",
    "\n",
    "    for test_point in X_test:\n",
    "        distances = [euclidean_distance(test_point, train_point) for train_point in X_train]\n",
    "        k_indices = np.argsort(distances)[:k]\n",
    "        k_nearest_labels = [y_train[i] for i in k_indices]\n",
    "\n",
    "        # Convert labels to numerical values\n",
    "        label_mapping = {label: i for i, label in enumerate(np.unique(y_train))}\n",
    "        k_nearest_labels_numeric = [label_mapping[label] for label in k_nearest_labels]\n",
    "\n",
    "        most_common = np.bincount(k_nearest_labels_numeric).argmax()\n",
    "        y_pred.append(list(label_mapping.keys())[list(label_mapping.values()).index(most_common)])\n",
    "\n",
    "    return np.array(y_pred)\n",
    "\n",
    "# Test the model\n",
    "k_values = [1, 3, 52, 71, 100]  # Different values of K to test\n",
    "\n",
    "for k in k_values:\n",
    "    # Predictions for the test set\n",
    "    y_pred = predict(X_train.values, y_train.values, X_test.values, k)\n",
    "\n",
    "    # Calculate accuracy\n",
    "    acc = accuracy_score(y_test.values, y_pred)\n",
    "    print(f\"\\nAccuracy for k={k}: {acc:.4f}\")\n",
    "\n",
    "    # Confusion matrix\n",
    "    conf_matrix = confusion_matrix(y_test.values, y_pred)\n",
    "    print(f\"Confusion Matrix for k={k}:\\n{conf_matrix}\")\n"
   ]
  },
  {
   "cell_type": "code",
   "execution_count": 60,
   "metadata": {},
   "outputs": [
    {
     "data": {
      "image/png": "[encoded data removed]",
      "text/plain": [
       "<Figure size 1000x600 with 1 Axes>"
      ]
     },
     "metadata": {},
     "output_type": "display_data"
    },
    {
     "name": "stdout",
     "output_type": "stream",
     "text": [
      "\n",
      "Maximum Accuracy: 1.0000 at k = 1\n"
     ]
    }
   ],
   "source": [
    "from sklearn.metrics import accuracy_score\n",
    "import matplotlib.pyplot as plt\n",
    "\n",
    "accuracy_values = []\n",
    "\n",
    "for k in k_values:\n",
    "    y_pred = predict(X_train.values, y_train.values, X_test.values, k)\n",
    "    acc = accuracy_score(y_test.values, y_pred)  # Use accuracy_score from sklearn\n",
    "    accuracy_values.append(acc)\n",
    "\n",
    "plt.figure(figsize=(10, 6))\n",
    "plt.plot(k_values, accuracy_values, marker='o')\n",
    "plt.xlabel('K')\n",
    "plt.ylabel('Accuracy')\n",
    "plt.title('K vs Accuracy')\n",
    "plt.grid(True)\n",
    "plt.show()\n",
    "\n",
    "max_acc_index = np.argmax(accuracy_values)\n",
    "max_acc_k = k_values[max_acc_index]\n",
    "print(f\"\\nMaximum Accuracy: {accuracy_values[max_acc_index]:.4f} at k = {max_acc_k}\")\n"
   ]
  }
 ],
 "metadata": {
  "kernelspec": {
   "display_name": "Python 3",
   "language": "python",
   "name": "python3"
  },
  "language_info": {
   "codemirror_mode": {
    "name": "ipython",
    "version": 3
   },
   "file_extension": ".py",
   "mimetype": "text/x-python",
   "name": "python",
   "nbconvert_exporter": "python",
   "pygments_lexer": "ipython3",
   "version": "3.12.0"
  }
 },
 "nbformat": 4,
 "nbformat_minor": 2
}
