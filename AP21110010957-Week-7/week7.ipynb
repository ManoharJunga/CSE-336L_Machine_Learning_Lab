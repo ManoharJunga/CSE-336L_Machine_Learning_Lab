{
 "cells": [
  {
   "cell_type": "code",
   "execution_count": 2,
   "metadata": {},
   "outputs": [],
   "source": [
    "#Q1.Create a vector (array) of 1XN dimension representing N-\n",
    "#   dimensional feature vector of a sample. Write a program to\n",
    "#   compute the mean and variance of the elements present in the\n",
    "#   array."
   ]
  },
  {
   "cell_type": "code",
   "execution_count": 11,
   "metadata": {},
   "outputs": [
    {
     "name": "stdout",
     "output_type": "stream",
     "text": [
      "Mean of SepalLengthCm is: 5.843333333333334\n",
      "Variance of SepalLengthCm is: 0.6811222222222223\n"
     ]
    }
   ],
   "source": [
    "import pandas as pd\n",
    "\n",
    "data = pd.read_csv('Iris.csv')\n",
    "\n",
    "SepalLengthCm = data['SepalLengthCm']\n",
    "\n",
    "def compute_mean(data):\n",
    "    return sum(data) / len(data)\n",
    "\n",
    "def compute_variance(data):\n",
    "    mean = compute_mean(data)\n",
    "    return sum((x - mean) ** 2 for x in data) / len(data)\n",
    "\n",
    "print(\"Mean of SepalLengthCm is:\", compute_mean(SepalLengthCm))\n",
    "print(\"Variance of SepalLengthCm is:\",  compute_variance(SepalLengthCm))\n",
    "\n",
    "variance_x = compute_variance(SepalLengthCm)"
   ]
  },
  {
   "cell_type": "code",
   "execution_count": null,
   "metadata": {},
   "outputs": [],
   "source": [
    "#2Q.Create two vectors each of dimension 1XM each representing N-\n",
    "#   dimensional feature vector of a sample. Write a program to\n",
    "#   compute the Covariance between them."
   ]
  },
  {
   "cell_type": "code",
   "execution_count": 15,
   "metadata": {},
   "outputs": [
    {
     "name": "stdout",
     "output_type": "stream",
     "text": [
      "Covariance of SepalLengthcm and SepalWidthCm is: -0.03926845637583893\n"
     ]
    }
   ],
   "source": [
    "\n",
    "SepalWidthCm = data['SepalWidthCm']\n",
    "\n",
    "def covariance(x, y):\n",
    "    mean_x = x.mean()\n",
    "    mean_y = y.mean()\n",
    "    covariance_xy = ((x - mean_x) * (y - mean_y)).sum() / (len(x) - 1)\n",
    "    return covariance_xy\n",
    "\n",
    "print(\"Covariance of SepalLengthcm and SepalWidthCm is:\", covariance(SepalLengthCm, SepalWidthCm))\n",
    "\n",
    "cov = covariance(SepalLengthCm, SepalWidthCm)\n"
   ]
  },
  {
   "cell_type": "code",
   "execution_count": 17,
   "metadata": {},
   "outputs": [
    {
     "name": "stdout",
     "output_type": "stream",
     "text": [
      "Correlation of SepalLengthCm and SepalWidthCm is: -0.11010327176239869\n"
     ]
    }
   ],
   "source": [
    "#3Q.Create two vectors each of dimension 1XN. Write a program to\n",
    "#   compute the Correlation between them.\n",
    "import numpy as np\n",
    "\n",
    "def correlation(x, y):\n",
    "    cov = covariance(x, y)\n",
    "    variance_x = np.var(x)\n",
    "    variance_y = np.var(y)\n",
    "    correlation_xy = cov / (np.sqrt(variance_x) * np.sqrt(variance_y))\n",
    "    return correlation_xy\n",
    "\n",
    "print(\"Correlation of SepalLengthCm and SepalWidthCm is:\", correlation(SepalLengthCm, SepalWidthCm))"
   ]
  },
  {
   "cell_type": "code",
   "execution_count": null,
   "metadata": {},
   "outputs": [],
   "source": [
    "#4Q.Create a Matrix of MXN dimension representing the M-dimensional\n",
    "#   feature vector for N number of samples i. e (i,j)th entry of the matrix\n",
    "#   represents the ith feature of jth sample. Write a program to compute\n",
    "#   the covariance matrix and correlation matrix. Comment on\n",
    "#   takeaways fr om these matrixes."
   ]
  },
  {
   "cell_type": "code",
   "execution_count": 22,
   "metadata": {},
   "outputs": [
    {
     "name": "stdout",
     "output_type": "stream",
     "text": [
      "Covariance Matrix:\n",
      "[[ 0.68569351 -0.03926846]\n",
      " [-0.03926846  0.18800403]]\n",
      "\n",
      "Correlation Matrix:\n",
      "[[ 1.         -0.10936925]\n",
      " [-0.10936925  1.        ]]\n"
     ]
    }
   ],
   "source": [
    "\n",
    "Irisdata = pd.read_csv('Iris.csv')\n",
    "\n",
    "data = Irisdata[['SepalLengthCm', 'SepalWidthCm']]\n",
    "\n",
    "data_array = np.array(data)\n",
    "\n",
    "data_transposed = data_array.T\n",
    "\n",
    "covariance_matrix = np.cov(data_transposed)\n",
    "\n",
    "correlation_matrix = np.corrcoef(data_transposed)\n",
    "\n",
    "print(\"Covariance Matrix:\")\n",
    "print(covariance_matrix)\n",
    "print(\"\\nCorrelation Matrix:\")\n",
    "print(correlation_matrix)\n"
   ]
  }
 ],
 "metadata": {
  "kernelspec": {
   "display_name": "Python 3",
   "language": "python",
   "name": "python3"
  },
  "language_info": {
   "codemirror_mode": {
    "name": "ipython",
    "version": 3
   },
   "file_extension": ".py",
   "mimetype": "text/x-python",
   "name": "python",
   "nbconvert_exporter": "python",
   "pygments_lexer": "ipython3",
   "version": "3.12.0"
  }
 },
 "nbformat": 4,
 "nbformat_minor": 2
}
