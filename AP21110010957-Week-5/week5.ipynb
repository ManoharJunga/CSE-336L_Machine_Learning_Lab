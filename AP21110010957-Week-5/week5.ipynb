{
 "cells": [
  {
   "cell_type": "code",
   "execution_count": null,
   "metadata": {},
   "outputs": [],
   "source": [
    "#1.Write a program to demonstrate the working of the decision tree. Use an\n",
    "#   given data set for building the decision tree and apply this knowledge to\n",
    "#   classify a new sample.\n",
    "#   Dataset name: weatherdata.csv"
   ]
  }
 ],
 "metadata": {
  "language_info": {
   "name": "python"
  }
 },
 "nbformat": 4,
 "nbformat_minor": 2
}
